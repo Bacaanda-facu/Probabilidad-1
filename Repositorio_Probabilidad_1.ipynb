{
  "nbformat": 4,
  "nbformat_minor": 0,
  "metadata": {
    "colab": {
      "provenance": [],
      "authorship_tag": "ABX9TyPSDm5/Ur6NL324FaOi4lbO",
      "include_colab_link": true
    },
    "kernelspec": {
      "name": "python3",
      "display_name": "Python 3"
    },
    "language_info": {
      "name": "python"
    }
  },
  "cells": [
    {
      "cell_type": "markdown",
      "metadata": {
        "id": "view-in-github",
        "colab_type": "text"
      },
      "source": [
        "<a href=\"https://colab.research.google.com/github/Bacaanda-facu/Probabilidad-1/blob/main/Repositorio_Probabilidad_1.ipynb\" target=\"_parent\"><img src=\"https://colab.research.google.com/assets/colab-badge.svg\" alt=\"Open In Colab\"/></a>"
      ]
    },
    {
      "cell_type": "markdown",
      "source": [
        "##**Fenómenos Aleatorios**\n",
        "\n",
        "1.   No aleatorios o determinísticos.\n",
        "2.   Aleatorios.\n",
        "\n",
        "\n",
        "**Definición 1.1**: Si un fénomeno se realiza varias veces en forma idéntica (bajo las mismas condiciones) y siempre arroja el mismo resultado, entonces se dice que es un *fenómeno no aleatorio o determinístico*.\n",
        "\n",
        "**Definición 1.2**: Si los resultados de un fenómeno que se realiza en forma idéntica (bajo las mismas condiciones), no son siempre las mismas, entonces el *fenómeno es aleatorio*.\n",
        "\n",
        "##**Clases de Probabilidad**\n",
        "\n",
        "En la literatura pueden encontrar 3 interpretaciones diferentes sobre probabilidad:\n",
        "\n",
        "1.   Clásica o a priori.\n",
        "2.   Frecuentista o a posteriori.\n",
        "3.   Subjetiva.\n",
        "\n",
        "> La *interpretación clásica* se basa en que todos los resultados posibles en un experimento son igualmente verosimiles, o sea que la probabilidad es la misma para cada uno de los posibles resultados.\n",
        "\n",
        "> En la *frecuentista*, la probabilidad de un suceso es interpretado como la frecuencia relativa aproximada del suceso (fracción de veces que ocurrió el suceso), si el experimento se repitiera de igual manera <u>un gran número de veces.</u>\n",
        "\n",
        "> En la *interpretación subjetiva o personal*, cada persona interesada dará su opinión acerca de la verosimilitud de cada uno de los resultado posibles del experimento.\n",
        "\n",
        "##**Espacios de Probabilidad**\n",
        "\n",
        "**Definición 1.3**: El conjunto de todos los resultado posibles en un experimento es llamado *espacio muestral*, y es denotado por $\\Omega$. Los elementos del espacio muestral ($\\Omega$) son llamados *puntos muestrales*.\n",
        "\n",
        "**Definición 1.4**: Un subconjunto del espacio muestral es llamado *evento o suceso*. Un evento que consiste en un solo punto es llamado *evento simple*. Los eventos se denotan por A, B,..., X, y, z.\n",
        "\n",
        "**Definición 1.5**: La clase de todos los eventos asociados a un experimento, es definido como *espacio de eventos*, y es denotado como $\\mathcal{F}$.\n",
        "\n",
        "##**Axiomas de Probabilidad**\n",
        "\n",
        "**Definición 1.6**: Sea $\\Omega$ un espacio muestral asociado a un experimento, la función denotada por $P$ y es definida sobre el espacio de eventos $\\mathcal{F}$ con valores reales ($P$ : $\\mathcal{F}$ ⟶ $\\mathbb{R}$) y rango **[0,1]**, la cual cumple los siguientes 3 axiomas:\n",
        "\n",
        "1.   $P[A]≥ 0$ para cada $A∈$ $\\mathcal{F}$\n",
        "2.   $P[Ω]= 1$\n",
        "3.   $P[$$\\bigcup_{i=1}^{\\infty} A_i$$]= $$\\sum_{i=1}^{\\infty}P[A_i]$ donde A_1,A_2,... son eventos mutúamente ajenos.\n",
        "\n",
        "**Definición 1.7**: El espacio de probabilidad es una terna, y se denota comúnmente como $(\\Omega, \\mathcal{F}, P)$, donde:\n",
        "\n",
        "- $\\Omega$ es el espacio muestral.\n",
        "- $\\mathcal{F}$ es el espacio de eventos.\n",
        "- $P$ es la medida de probabilidad.\n",
        "\n",
        "##**Análisis combinatorio**\n",
        "\n",
        "**Regla de Multiplicación**\n",
        "\n",
        "\n",
        "**Regla de Adición**\n",
        "\n",
        "**Permutaciones**\n",
        "Una permutación u ordenación es un arreglo hecho por los elementos o por algumnos elementos del conjunto.\n",
        "Se clasifican en:\n",
        "\n",
        "*   Con elementos iguales.\n",
        "$$ P = \\frac{n!}{r_!! \\cdot r_2! \\cdot r_3,\\cdot \\cdot \\cdot ,r_k} $$\n",
        "*   Con repetición.\n",
        "\n",
        "*   Sin repetición.\n",
        "$$ P(n, r) = \\frac{{n!}}{{(n - r)!}} $$\n",
        "\n",
        "**Combinaciones**\n",
        "Una combinación es un subconjunto de un conjunto.\n",
        "\n",
        "\n",
        "\n"
      ],
      "metadata": {
        "id": "ZwsBIOBNSF7U"
      }
    },
    {
      "cell_type": "markdown",
      "source": [
        "##**Permutaciones**\n",
        "> En Python, puede usar el módulo incorporado *itertools* para obtener las permutaciones de elementos en la lista usando el *permutations* ( ) función. Predetermina la longitud de la lista y, por lo tanto, genera todas las permutaciones posibles.\n",
        "\n"
      ],
      "metadata": {
        "id": "D2MMma7IKMjk"
      }
    },
    {
      "cell_type": "code",
      "source": [
        "import itertools\n",
        "\n",
        "if __name__ == '__main__':\n",
        "\n",
        "    nums = [1, 2, 3]\n",
        "\n",
        "    permutations = list(itertools.permutations(nums))\n",
        "    print(permutations)\n"
      ],
      "metadata": {
        "id": "126YDBjJYhTA",
        "colab": {
          "base_uri": "https://localhost:8080/"
        },
        "outputId": "a022c410-d64e-4efc-dc8b-acff81671372"
      },
      "execution_count": null,
      "outputs": [
        {
          "output_type": "stream",
          "name": "stdout",
          "text": [
            "[(1, 2, 3), (1, 3, 2), (2, 1, 3), (2, 3, 1), (3, 1, 2), (3, 2, 1)]\n"
          ]
        }
      ]
    },
    {
      "cell_type": "markdown",
      "source": [
        "##**Generar sucesivos r permutaciones de longitud**\n",
        "> Para generar permutaciones de longitud específica **r**.\n"
      ],
      "metadata": {
        "id": "MmJJ9-csKkvH"
      }
    },
    {
      "cell_type": "code",
      "source": [
        "import itertools\n",
        "\n",
        "if __name__ == '__main__':\n",
        "\n",
        "    nums = [1, 2, 3]\n",
        "    r = 2\n",
        "\n",
        "    permutations = list(itertools.permutations(nums, r))\n",
        "    print(permutations)"
      ],
      "metadata": {
        "colab": {
          "base_uri": "https://localhost:8080/"
        },
        "id": "-gzl9YTOrgda",
        "outputId": "24673bdd-4f17-4716-9385-f8fe3162f4c4"
      },
      "execution_count": null,
      "outputs": [
        {
          "output_type": "stream",
          "name": "stdout",
          "text": [
            "[(1, 2), (1, 3), (2, 1), (2, 3), (3, 1), (3, 2)]\n"
          ]
        }
      ]
    },
    {
      "cell_type": "markdown",
      "source": [
        "##**Permutaciones sin repetición**\n"
      ],
      "metadata": {
        "id": "RQva6qKZLguZ"
      }
    },
    {
      "cell_type": "code",
      "source": [
        "import itertools\n",
        "\n",
        "if __name__ == '__main__':\n",
        "\n",
        "    nums = [1, 2, 3]\n",
        "    r = 2\n",
        "\n",
        "    combinations = list(itertools.combinations(nums, r))\n",
        "    print(combinations)"
      ],
      "metadata": {
        "colab": {
          "base_uri": "https://localhost:8080/"
        },
        "id": "DkYDGPhqrjl7",
        "outputId": "22e74df5-0c89-4eff-9567-7863a12588f5"
      },
      "execution_count": null,
      "outputs": [
        {
          "output_type": "stream",
          "name": "stdout",
          "text": [
            "[(1, 2), (1, 3), (2, 3)]\n"
          ]
        }
      ]
    },
    {
      "cell_type": "code",
      "source": [],
      "metadata": {
        "id": "D9Xu1Z24rnQE"
      },
      "execution_count": null,
      "outputs": []
    }
  ]
}